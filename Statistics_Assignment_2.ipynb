{
 "cells": [
  {
   "cell_type": "code",
   "execution_count": 1,
   "id": "299baa43-ebdd-495f-8d28-0b44fa95adc6",
   "metadata": {},
   "outputs": [],
   "source": [
    "# #  Q1. What are the three measures of central tendency?\n",
    "\n",
    "#     The three measures of central tendency are the mean, median, and mode."
   ]
  },
  {
   "cell_type": "code",
   "execution_count": 2,
   "id": "90f49bd9-ace5-4599-8384-f597576ff89e",
   "metadata": {},
   "outputs": [],
   "source": [
    "#  Q2. What is the difference between the mean, median, and mode? How are they used to measure the \n",
    "#   central tendency of a dataset?\n",
    "\n",
    "# The mean is the average value, the median is the middle value, and the mode is the most frequent value. \n",
    "# They measure the central tendency of a dataset by representing \n",
    "# its typical value, central position, or most common value, respectively."
   ]
  },
  {
   "cell_type": "code",
   "execution_count": 3,
   "id": "67495dff-b347-4e01-bc96-9f3388919cf1",
   "metadata": {},
   "outputs": [],
   "source": [
    "# Q3. Measure the three measures of central tendency for the given height data:\n",
    "\n",
    "#  [178,177,176,177,178.2,178,175,179,180,175,178.9,176.2,177,172.5,178,176.5]\n",
    "\n",
    "# o measure the three measures of central tendency (mean, median, and mode) for the given height data, let's calculate them:\n",
    "\n",
    "# Mean: The mean is calculated by summing all the values and dividing by the total number of observations.\n",
    "\n",
    "# Mean = (178 + 177 + 176 + 177 + 178.2 + 178 + 175 + 179 + 180 + 175 + 178.9 + 176.2 + 177 + 172.5 + 178 + 176.5) / 16\n",
    "\n",
    "# Mean ≈ 176.90625\n",
    "\n",
    "# Therefore, the mean height is approximately 176.91.\n",
    "\n",
    "# Median: The median is the middle value when the data is arranged in ascending order.\n",
    "\n",
    "# Arranging the data in ascending order: 172.5, 175, 175, 176, 176.2, 176.5, 177, 177, 178, 178, 178, 178.2, 178.9, 179, 180\n",
    "\n",
    "# Median = (176 + 176.2) / 2\n",
    "\n",
    "# Median ≈ 176.1\n",
    "\n",
    "# Therefore, the median height is approximately 176.1.\n",
    "\n",
    "# Mode: The mode is the value(s) that appear with the highest frequency.\n",
    "\n",
    "\n",
    "\n",
    "# Therefore, for the given height data, the measures of central tendency are:\n",
    "\n",
    "# Mean ≈ 176.91\n",
    "# Median ≈ 176.1\n",
    "# Mode = 178"
   ]
  },
  {
   "cell_type": "code",
   "execution_count": 4,
   "id": "c6404fb3-8dd3-4e2f-b7ea-3feb71b9bee0",
   "metadata": {},
   "outputs": [
    {
     "data": {
      "text/plain": [
       "1.7885814036548633"
      ]
     },
     "execution_count": 4,
     "metadata": {},
     "output_type": "execute_result"
    }
   ],
   "source": [
    "# Q4. Find the standard deviation for the given data:\n",
    "\n",
    "no = [178,177,176,177,178.2,178,175,179,180,175,178.9,176.2,177,172.5,178,176.5]\n",
    "\n",
    "import numpy as np\n",
    "np.std(no)"
   ]
  },
  {
   "cell_type": "code",
   "execution_count": 5,
   "id": "48660629-539f-4978-9e4b-f34273d56f6b",
   "metadata": {},
   "outputs": [],
   "source": [
    "#  Q5. How are measures of dispersion such as range, variance, and standard deviation used to describe \n",
    "#  the spread of a dataset? Provide an example.\n",
    "\n",
    "# Measures of dispersion, like range, variance, and standard deviation, quantify the spread of a dataset.\n",
    "# Range gives the difference between the maximum and minimum values.\n",
    "# Variance and standard deviation provide a numerical measure of how data points deviate from the mean, indicating the extent of variability within the dataset. \n",
    "# For example, \n",
    "# if we have two datasets with the same mean but different variances, the dataset with the higher variance has a wider spread of values, \n",
    "# indicating more variability."
   ]
  },
  {
   "cell_type": "code",
   "execution_count": 6,
   "id": "b18a9df8-6066-4d5c-8070-7a3fd3eb704b",
   "metadata": {},
   "outputs": [],
   "source": [
    "#  6. What is a Venn diagram?\n",
    "\n",
    "# A Venn diagram is a visual representation using overlapping circles to show the relationships and \n",
    "# commonalities between different sets or groups of objects or concepts."
   ]
  },
  {
   "cell_type": "code",
   "execution_count": 7,
   "id": "974a35c0-af96-41f8-9fec-fc469d33b735",
   "metadata": {},
   "outputs": [],
   "source": [
    "# Q7. For the two given sets A = (2,3,4,5,6,7) & B = (0,2,6,8,10). Find:\n",
    "\n",
    "# (i) \tA  intersection B   #  2,6\n",
    "\n",
    "# (ii)\tA union  B  # 0,2,3,4,5,6,7,8,10 \n"
   ]
  },
  {
   "cell_type": "code",
   "execution_count": 8,
   "id": "23959863-e390-4bbb-a232-3bf2586b4a8b",
   "metadata": {},
   "outputs": [],
   "source": [
    "#   Q8. What do you understand about skewness in data?\n",
    "    \n",
    "#     Skewness in data refers to the asymmetry of the data distribution. \n",
    "#     It indicates whether the data is skewed to the left (negatively skewed), to the right (positively skewed), or symmetrically distributed."
   ]
  },
  {
   "cell_type": "code",
   "execution_count": 9,
   "id": "98526b18-c46c-4f78-b86b-a15604ced233",
   "metadata": {},
   "outputs": [],
   "source": [
    "#  9. If a data is right skewed then what will be the position of median with respect to mean?\n",
    "\n",
    "# Answer : Median will be Right of mean"
   ]
  },
  {
   "cell_type": "code",
   "execution_count": 10,
   "id": "732402c5-d554-4e09-aca9-e0baa75260b0",
   "metadata": {},
   "outputs": [],
   "source": [
    "# Q10. Explain the difference between covariance and correlation. How are these measures used in \n",
    "# statistical analysis?\n",
    "\n",
    "# Covariance measures the direction and strength of the linear relationship between two variables, \n",
    "# while correlation measures the strength and direction of the linear relationship in standardized units. \n",
    "# They are used to assess the association between variables in statistical analysis."
   ]
  },
  {
   "cell_type": "code",
   "execution_count": 11,
   "id": "8c0db8d1-aa3b-484b-83ab-28ef432b0ffc",
   "metadata": {},
   "outputs": [],
   "source": [
    "# Q11. What is the formula for calculating the sample mean? Provide an example calculation for a \n",
    "# dataset.\n",
    "\n",
    "# Annwer : Sum of all values/ total number of values = Mean"
   ]
  },
  {
   "cell_type": "code",
   "execution_count": 12,
   "id": "71bdb134-a97b-43da-a425-4b526fe59a7c",
   "metadata": {},
   "outputs": [],
   "source": [
    "# 12. For a normal distribution data what is the relationship between its measure of central tendency?\n",
    "\n",
    "# For a normal distribution, the measures of central tendency (mean, median, and mode) are equal or very close to each other. \n",
    "# In a perfectly symmetrical normal distribution, the mean, median, and mode are all located at the center of the distribution. \n",
    "# This is because the data is symmetrically distributed around the center, resulting in the central tendency measures being the same or very similar."
   ]
  },
  {
   "cell_type": "code",
   "execution_count": 13,
   "id": "2d5c6742-73a3-4553-ac6c-6c07470da23c",
   "metadata": {},
   "outputs": [],
   "source": [
    "# 13. How is covariance different from correlation?\n",
    "\n",
    "# Covariance measures the direction and strength of the linear relationship between variables but lacks standardization. \n",
    "# Correlation provides a standardized measure between -1 and +1,\n",
    "# making it easier to interpret and compare the strength and direction of the linear relationship between variables"
   ]
  },
  {
   "cell_type": "code",
   "execution_count": null,
   "id": "497898b1-0599-40ab-a674-78aa95a1b86b",
   "metadata": {},
   "outputs": [],
   "source": [
    "# 14. How do outliers affect measures of central tendency and dispersion? Provide an example.\n",
    "\n",
    "# Outliers can significantly impact measures of central tendency and dispersion. Outliers can inflate or skew the mean, \n",
    "# causing it to be unrepresentative of the data. Outliers can also increase the range, variance, and standard deviation, making the dispersion appear larger. \n",
    "# For example, in a dataset of salaries, an extremely high outlier can greatly increase the mean salary and inflate the standard deviation, \n",
    "# giving a misleading representation of the average salary and variability."
   ]
  }
 ],
 "metadata": {
  "kernelspec": {
   "display_name": "Python 3 (ipykernel)",
   "language": "python",
   "name": "python3"
  },
  "language_info": {
   "codemirror_mode": {
    "name": "ipython",
    "version": 3
   },
   "file_extension": ".py",
   "mimetype": "text/x-python",
   "name": "python",
   "nbconvert_exporter": "python",
   "pygments_lexer": "ipython3",
   "version": "3.10.8"
  }
 },
 "nbformat": 4,
 "nbformat_minor": 5
}
